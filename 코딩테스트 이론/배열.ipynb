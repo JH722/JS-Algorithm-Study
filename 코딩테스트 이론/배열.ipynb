{
 "cells": [
  {
   "cell_type": "code",
   "execution_count": 1,
   "id": "f5603b82",
   "metadata": {},
   "outputs": [],
   "source": [
    "data=[[1,2,3],[4,5,6],[7,8,9]]"
   ]
  },
  {
   "cell_type": "code",
   "execution_count": 3,
   "id": "ffb8ddab",
   "metadata": {},
   "outputs": [
    {
     "name": "stdout",
     "output_type": "stream",
     "text": [
      "9\n",
      "8\n",
      "7\n"
     ]
    }
   ],
   "source": [
    "print(data[-1][-1]) # 혹은 print(data[2][2])\n",
    "print(data[-1][-2]) # 혹은 print(data[2][1])\n",
    "print(data[-1][-3]) # 혹은 print(data[2][0])"
   ]
  },
  {
   "cell_type": "code",
   "execution_count": 12,
   "id": "b2f1e4fd",
   "metadata": {},
   "outputs": [],
   "source": [
    "dataset = [\n",
    "    \"Braund, Mr. Owen Harris\",\n",
    "    \"Cumings, Mrs. John Bradley (Florence Briggs Thayer)\",\n",
    "    \"Heikkinen, Miss. Laina\",\n",
    "    \"Futrelle, Mrs. Jacques Heath (Lily May Peel)\",\n",
    "    \"Allen, Mr. William Henry\",\n",
    "    \"Moran, Mr. James\",\n",
    "    \"McCarthy, Mr. Timothy J\",\n",
    "    \"Palsson, Master. Gosta Leonard\",\n",
    "    \"Johnson, Mrs. Oscar W (Elisabeth Vilhelmina Berg)\",\n",
    "    \"Nasser, Mrs. Nicholas (Adele Achem)\",\n",
    "    \"Sandstrom, Miss. Marguerite Rut\",\n",
    "    \"Bonnell, Miss. Elizabeth\",\n",
    "    \"Saundercock, Mr. William Henry\",\n",
    "    \"Andersson, Mr. Anders Johan\",\n",
    "    \"Vestrom, Miss. Hulda Amanda Adolfina\",\n",
    "    \"Hewlett, Mrs. (Mary D Kingcome) \",\n",
    "    \"Rice, Master. Eugene\",\n",
    "    \"Williams, Mr. Charles Eugene\",\n",
    "    \"Vander Planke, Mrs. Julius (Emelia Maria Vandemoortele)\",\n",
    "    \"Masselmani, Mrs. Fatima\",\n",
    "    \"Fynney, Mr. Joseph J\",\n",
    "    \"Beesley, Mr. Lawrence\",\n",
    "    \"McGowan, Miss. Anna\",\n",
    "    \"Sloper, Mr. William Thompson\",\n",
    "    \"Palsson, Miss. Torborg Danira\",\n",
    "    \"Asplund, Mrs. Carl Oscar (Selma Augusta Emilia Johansson)\",\n",
    "    \"Emir, Mr. Farred Chehab\",\n",
    "    \"Fortune, Mr. Charles Alexander\",\n",
    "    \"Dwyer, Miss. Ellen\",\n",
    "    \"Todoroff, Mr. Lalio\"\n",
    "];"
   ]
  },
  {
   "cell_type": "code",
   "execution_count": 15,
   "id": "b288509f",
   "metadata": {},
   "outputs": [
    {
     "name": "stdout",
     "output_type": "stream",
     "text": [
      "38\n"
     ]
    }
   ],
   "source": [
    "M_count=0\n",
    "for i in range(len(dataset)):\n",
    "    for j in range(len(dataset[i])):\n",
    "        if dataset[i][j]=='M':\n",
    "            M_count+=1\n",
    "print(M_count)"
   ]
  },
  {
   "cell_type": "code",
   "execution_count": null,
   "id": "8facc343",
   "metadata": {},
   "outputs": [],
   "source": [
    "m_count=0\n",
    "for data in dataset:\n",
    "    for index in range(len(data)):\n",
    "        if data[index]=='M':\n",
    "            m_count+=1\n",
    "print(m_count)"
   ]
  }
 ],
 "metadata": {
  "kernelspec": {
   "display_name": "Python 3 (ipykernel)",
   "language": "python",
   "name": "python3"
  },
  "language_info": {
   "codemirror_mode": {
    "name": "ipython",
    "version": 3
   },
   "file_extension": ".py",
   "mimetype": "text/x-python",
   "name": "python",
   "nbconvert_exporter": "python",
   "pygments_lexer": "ipython3",
   "version": "3.9.12"
  }
 },
 "nbformat": 4,
 "nbformat_minor": 5
}
