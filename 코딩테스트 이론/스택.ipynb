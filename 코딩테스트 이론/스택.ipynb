{
 "cells": [
  {
   "cell_type": "markdown",
   "id": "9ed73e81",
   "metadata": {},
   "source": [
    "## 파이썬 리스트 기능에서 제공하는 스택"
   ]
  },
  {
   "cell_type": "code",
   "execution_count": 1,
   "id": "681dc595",
   "metadata": {},
   "outputs": [],
   "source": [
    "stack_list=list()  #list만들기\n",
    "\n",
    "# append() 메서드 이용하여 데이터 넣기\n",
    "stack_list.append(1)\n",
    "stack_list.append(2)"
   ]
  },
  {
   "cell_type": "code",
   "execution_count": 2,
   "id": "8c4c16bb",
   "metadata": {},
   "outputs": [
    {
     "data": {
      "text/plain": [
       "[1, 2]"
      ]
     },
     "execution_count": 2,
     "metadata": {},
     "output_type": "execute_result"
    }
   ],
   "source": [
    "stack_list"
   ]
  },
  {
   "cell_type": "code",
   "execution_count": 3,
   "id": "a0073470",
   "metadata": {},
   "outputs": [
    {
     "data": {
      "text/plain": [
       "2"
      ]
     },
     "execution_count": 3,
     "metadata": {},
     "output_type": "execute_result"
    }
   ],
   "source": [
    "stack_list.pop()"
   ]
  },
  {
   "cell_type": "code",
   "execution_count": 4,
   "id": "a2da02d7",
   "metadata": {},
   "outputs": [
    {
     "data": {
      "text/plain": [
       "[1]"
      ]
     },
     "execution_count": 4,
     "metadata": {},
     "output_type": "execute_result"
    }
   ],
   "source": [
    "stack_list"
   ]
  },
  {
   "cell_type": "code",
   "execution_count": 5,
   "id": "e3c799d0",
   "metadata": {},
   "outputs": [
    {
     "data": {
      "text/plain": [
       "1"
      ]
     },
     "execution_count": 5,
     "metadata": {},
     "output_type": "execute_result"
    }
   ],
   "source": [
    "stack_list.pop()"
   ]
  },
  {
   "cell_type": "markdown",
   "id": "1cf41727",
   "metadata": {},
   "source": [
    "## 연습1) 리스트 변수로 스택을 다루는 pop, push 기능 구현해보기 (pop, push 함수 사용하지 않고 직접 구현해보기)"
   ]
  },
  {
   "cell_type": "code",
   "execution_count": 6,
   "id": "69cba127",
   "metadata": {},
   "outputs": [],
   "source": [
    "stack_list=list()\n",
    "\n",
    "def push(data):\n",
    "    stack_list.append(data)\n",
    "\n",
    "def pop():\n",
    "    data=stack_list[-1]\n",
    "    del stack_list[-1]\n",
    "    return data"
   ]
  },
  {
   "cell_type": "code",
   "execution_count": 7,
   "id": "92e36843",
   "metadata": {},
   "outputs": [],
   "source": [
    "push(1)"
   ]
  },
  {
   "cell_type": "code",
   "execution_count": 8,
   "id": "499092d3",
   "metadata": {},
   "outputs": [],
   "source": [
    "push(2)"
   ]
  },
  {
   "cell_type": "code",
   "execution_count": 9,
   "id": "baa26aea",
   "metadata": {},
   "outputs": [
    {
     "data": {
      "text/plain": [
       "[1, 2]"
      ]
     },
     "execution_count": 9,
     "metadata": {},
     "output_type": "execute_result"
    }
   ],
   "source": [
    "stack_list"
   ]
  },
  {
   "cell_type": "code",
   "execution_count": 10,
   "id": "97cd60d9",
   "metadata": {},
   "outputs": [
    {
     "data": {
      "text/plain": [
       "2"
      ]
     },
     "execution_count": 10,
     "metadata": {},
     "output_type": "execute_result"
    }
   ],
   "source": [
    "pop()"
   ]
  },
  {
   "cell_type": "code",
   "execution_count": null,
   "id": "abbab050",
   "metadata": {},
   "outputs": [],
   "source": []
  }
 ],
 "metadata": {
  "kernelspec": {
   "display_name": "Python 3 (ipykernel)",
   "language": "python",
   "name": "python3"
  },
  "language_info": {
   "codemirror_mode": {
    "name": "ipython",
    "version": 3
   },
   "file_extension": ".py",
   "mimetype": "text/x-python",
   "name": "python",
   "nbconvert_exporter": "python",
   "pygments_lexer": "ipython3",
   "version": "3.9.12"
  }
 },
 "nbformat": 4,
 "nbformat_minor": 5
}
