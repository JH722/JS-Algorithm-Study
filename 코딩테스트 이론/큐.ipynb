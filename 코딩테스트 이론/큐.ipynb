{
 "cells": [
  {
   "cell_type": "markdown",
   "id": "e46574d5",
   "metadata": {},
   "source": [
    "## Queue()로 큐 만들기(FIFO)\n",
    "### 먼저 넣은 데이터를 먼저 출력"
   ]
  },
  {
   "cell_type": "code",
   "execution_count": 1,
   "id": "ea7f8dd7",
   "metadata": {},
   "outputs": [],
   "source": [
    "import queue  #큐 라이브러리 명\n",
    "\n",
    "data_queue = queue.Queue() #queue라이브러리 안에 있는 Queue클래스 호출"
   ]
  },
  {
   "cell_type": "code",
   "execution_count": 2,
   "id": "b12b999e",
   "metadata": {},
   "outputs": [],
   "source": [
    "# 큐에 데이터를 넣는 경우 put 이용\n",
    "data_queue.put(\"haha\")\n",
    "data_queue.put(1)"
   ]
  },
  {
   "cell_type": "code",
   "execution_count": 3,
   "id": "f337c42b",
   "metadata": {},
   "outputs": [
    {
     "data": {
      "text/plain": [
       "2"
      ]
     },
     "execution_count": 3,
     "metadata": {},
     "output_type": "execute_result"
    }
   ],
   "source": [
    "# 큐 사이즈 알고 싶은 경우 qsize 이용\n",
    "data_queue.qsize()"
   ]
  },
  {
   "cell_type": "code",
   "execution_count": 4,
   "id": "3db39234",
   "metadata": {},
   "outputs": [
    {
     "data": {
      "text/plain": [
       "'haha'"
      ]
     },
     "execution_count": 4,
     "metadata": {},
     "output_type": "execute_result"
    }
   ],
   "source": [
    "# 큐 데이터 출력할 경우 get 이용\n",
    "data_queue.get()"
   ]
  },
  {
   "cell_type": "code",
   "execution_count": 5,
   "id": "9c3a7101",
   "metadata": {},
   "outputs": [
    {
     "data": {
      "text/plain": [
       "1"
      ]
     },
     "execution_count": 5,
     "metadata": {},
     "output_type": "execute_result"
    }
   ],
   "source": [
    "data_queue.qsize()"
   ]
  },
  {
   "cell_type": "code",
   "execution_count": 6,
   "id": "b0dfbefb",
   "metadata": {},
   "outputs": [
    {
     "data": {
      "text/plain": [
       "1"
      ]
     },
     "execution_count": 6,
     "metadata": {},
     "output_type": "execute_result"
    }
   ],
   "source": [
    "data_queue.get()"
   ]
  },
  {
   "cell_type": "code",
   "execution_count": 7,
   "id": "5ec5f004",
   "metadata": {},
   "outputs": [
    {
     "data": {
      "text/plain": [
       "0"
      ]
     },
     "execution_count": 7,
     "metadata": {},
     "output_type": "execute_result"
    }
   ],
   "source": [
    "data_queue.qsize()"
   ]
  },
  {
   "cell_type": "markdown",
   "id": "17c83b0d",
   "metadata": {},
   "source": [
    "## LifoQueue()로 큐 만들기(LIFO)\n",
    "### 나중에 넣은 데이터가 먼저 출력"
   ]
  },
  {
   "cell_type": "code",
   "execution_count": 8,
   "id": "cb337916",
   "metadata": {},
   "outputs": [],
   "source": [
    "import queue\n",
    "\n",
    "data_queue = queue.LifoQueue()"
   ]
  },
  {
   "cell_type": "code",
   "execution_count": 9,
   "id": "39b53f77",
   "metadata": {},
   "outputs": [],
   "source": [
    "data_queue.put(\"funcoding\")\n",
    "data_queue.put(2)"
   ]
  },
  {
   "cell_type": "code",
   "execution_count": 10,
   "id": "e51eaa49",
   "metadata": {},
   "outputs": [
    {
     "data": {
      "text/plain": [
       "2"
      ]
     },
     "execution_count": 10,
     "metadata": {},
     "output_type": "execute_result"
    }
   ],
   "source": [
    "data_queue.qsize()"
   ]
  },
  {
   "cell_type": "code",
   "execution_count": 11,
   "id": "94f019a8",
   "metadata": {},
   "outputs": [
    {
     "data": {
      "text/plain": [
       "2"
      ]
     },
     "execution_count": 11,
     "metadata": {},
     "output_type": "execute_result"
    }
   ],
   "source": [
    "data_queue.get()"
   ]
  },
  {
   "cell_type": "code",
   "execution_count": 12,
   "id": "f25ea5ed",
   "metadata": {},
   "outputs": [
    {
     "data": {
      "text/plain": [
       "1"
      ]
     },
     "execution_count": 12,
     "metadata": {},
     "output_type": "execute_result"
    }
   ],
   "source": [
    "data_queue.qsize()"
   ]
  },
  {
   "cell_type": "code",
   "execution_count": 13,
   "id": "deecf520",
   "metadata": {},
   "outputs": [
    {
     "data": {
      "text/plain": [
       "'funcoding'"
      ]
     },
     "execution_count": 13,
     "metadata": {},
     "output_type": "execute_result"
    }
   ],
   "source": [
    "data_queue.get()"
   ]
  },
  {
   "cell_type": "code",
   "execution_count": 14,
   "id": "82b309e9",
   "metadata": {},
   "outputs": [
    {
     "data": {
      "text/plain": [
       "0"
      ]
     },
     "execution_count": 14,
     "metadata": {},
     "output_type": "execute_result"
    }
   ],
   "source": [
    "data_queue.qsize()"
   ]
  },
  {
   "cell_type": "markdown",
   "id": "41bff505",
   "metadata": {},
   "source": [
    "## PriorityQueue()로 큐 만들기\n",
    "### 우선순위가 높은 데이터 먼저 출력"
   ]
  },
  {
   "cell_type": "code",
   "execution_count": 15,
   "id": "f744dcdc",
   "metadata": {},
   "outputs": [],
   "source": [
    "import queue\n",
    "data_queue=queue.PriorityQueue()"
   ]
  },
  {
   "cell_type": "code",
   "execution_count": 22,
   "id": "20e6ae92",
   "metadata": {},
   "outputs": [],
   "source": [
    "# (우선순위, 데이터) 처럼 튜플 형태로 데이터 삽입\n",
    "data_queue.put((10,\"korea\"))\n",
    "data_queue.put((5,3))\n",
    "data_queue.put((15, \"china\"))"
   ]
  },
  {
   "cell_type": "code",
   "execution_count": 17,
   "id": "13e5759b",
   "metadata": {},
   "outputs": [
    {
     "data": {
      "text/plain": [
       "3"
      ]
     },
     "execution_count": 17,
     "metadata": {},
     "output_type": "execute_result"
    }
   ],
   "source": [
    "data_queue.qsize()"
   ]
  },
  {
   "cell_type": "code",
   "execution_count": 18,
   "id": "6f47f586",
   "metadata": {},
   "outputs": [
    {
     "data": {
      "text/plain": [
       "(5, 3)"
      ]
     },
     "execution_count": 18,
     "metadata": {},
     "output_type": "execute_result"
    }
   ],
   "source": [
    "data_queue.get()"
   ]
  },
  {
   "cell_type": "code",
   "execution_count": 19,
   "id": "f556c87c",
   "metadata": {},
   "outputs": [
    {
     "data": {
      "text/plain": [
       "2"
      ]
     },
     "execution_count": 19,
     "metadata": {},
     "output_type": "execute_result"
    }
   ],
   "source": [
    "data_queue.qsize()"
   ]
  },
  {
   "cell_type": "code",
   "execution_count": 21,
   "id": "99663908",
   "metadata": {},
   "outputs": [
    {
     "data": {
      "text/plain": [
       "(10, 'korea')"
      ]
     },
     "execution_count": 21,
     "metadata": {},
     "output_type": "execute_result"
    }
   ],
   "source": [
    "data_queue.get()"
   ]
  },
  {
   "cell_type": "markdown",
   "id": "308adebf",
   "metadata": {},
   "source": [
    "## 리스트로 enqueue(), dequeue() 구현해보기"
   ]
  },
  {
   "cell_type": "code",
   "execution_count": 23,
   "id": "6381330d",
   "metadata": {},
   "outputs": [],
   "source": [
    "data_list=list() #리스트 선언\n",
    "\n",
    "# 데이터 넣는 enqueue함수 구현\n",
    "def enqueue(data):\n",
    "    data_list.append(data)\n",
    "    \n",
    "# 데이터를 빼는 dequeue함수 구현\n",
    "def dequeue():\n",
    "    data=data_list[0]\n",
    "    del data_list[0]\n",
    "    return data"
   ]
  },
  {
   "cell_type": "code",
   "execution_count": 24,
   "id": "0b0c4006",
   "metadata": {},
   "outputs": [],
   "source": [
    "enqueue(20)\n",
    "enqueue(40)"
   ]
  },
  {
   "cell_type": "code",
   "execution_count": 26,
   "id": "9d61b4a4",
   "metadata": {},
   "outputs": [
    {
     "data": {
      "text/plain": [
       "2"
      ]
     },
     "execution_count": 26,
     "metadata": {},
     "output_type": "execute_result"
    }
   ],
   "source": [
    "len(data_list)"
   ]
  },
  {
   "cell_type": "code",
   "execution_count": 27,
   "id": "cce589f7",
   "metadata": {},
   "outputs": [
    {
     "data": {
      "text/plain": [
       "20"
      ]
     },
     "execution_count": 27,
     "metadata": {},
     "output_type": "execute_result"
    }
   ],
   "source": [
    "dequeue()"
   ]
  },
  {
   "cell_type": "code",
   "execution_count": 28,
   "id": "cd6b79d7",
   "metadata": {},
   "outputs": [
    {
     "data": {
      "text/plain": [
       "1"
      ]
     },
     "execution_count": 28,
     "metadata": {},
     "output_type": "execute_result"
    }
   ],
   "source": [
    "len(data_list)"
   ]
  },
  {
   "cell_type": "code",
   "execution_count": null,
   "id": "602b05c4",
   "metadata": {},
   "outputs": [],
   "source": []
  }
 ],
 "metadata": {
  "kernelspec": {
   "display_name": "Python 3 (ipykernel)",
   "language": "python",
   "name": "python3"
  },
  "language_info": {
   "codemirror_mode": {
    "name": "ipython",
    "version": 3
   },
   "file_extension": ".py",
   "mimetype": "text/x-python",
   "name": "python",
   "nbconvert_exporter": "python",
   "pygments_lexer": "ipython3",
   "version": "3.9.12"
  }
 },
 "nbformat": 4,
 "nbformat_minor": 5
}
